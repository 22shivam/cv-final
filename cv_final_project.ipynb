{
  "cells": [
    {
      "cell_type": "code",
      "execution_count": 1,
      "metadata": {
        "_uuid": "dd82702380162e9587a0eae2f644dae2764f93c8",
        "id": "9rAqoMaqe62P"
      },
      "outputs": [],
      "source": [
        "import os\n",
        "import time\n",
        "from collections import defaultdict\n",
        "from shutil import copy, copytree, rmtree\n",
        "import numpy as np\n",
        "import matplotlib.pyplot as plt\n",
        "import seaborn as sns\n",
        "from IPython.display import clear_output\n",
        "from tensorflow.keras import backend as K, regularizers\n",
        "from tensorflow.keras.models import Model, load_model\n",
        "from tensorflow.keras.layers import Dense, Dropout, GlobalAveragePooling2D\n",
        "from tensorflow.keras.preprocessing.image import ImageDataGenerator\n",
        "from tensorflow.keras.callbacks import ModelCheckpoint, CSVLogger\n",
        "from tensorflow.keras.optimizers import SGD\n",
        "from tensorflow.keras.applications.inception_v3 import InceptionV3\n",
        "from tensorflow.keras.applications.resnet50 import ResNet50\n",
        "\n",
        "from sklearn.metrics import classification_report, confusion_matrix\n",
        "\n",
        "%matplotlib inline"
      ]
    },
    {
      "cell_type": "code",
      "execution_count": 3,
      "metadata": {
        "_uuid": "339ff95b36c15cfb16a9316d2a19cc89aaaf7160",
        "execution": {
          "iopub.execute_input": "2023-06-04T06:59:08.992701Z",
          "iopub.status.busy": "2023-06-04T06:59:08.992180Z",
          "iopub.status.idle": "2023-06-04T06:59:08.999368Z",
          "shell.execute_reply": "2023-06-04T06:59:08.998401Z",
          "shell.execute_reply.started": "2023-06-04T06:59:08.992650Z"
        },
        "id": "f88XvEBTQBS9"
      },
      "outputs": [],
      "source": [
        "def getData():\n",
        "  if \"food-101\" in os.listdir():\n",
        "    print(\"data alrdy downloaded\")\n",
        "  else:\n",
        "    print(\"downloading...\")\n",
        "    !wget http://data.vision.ee.ethz.ch/cvl/food-101.tar.gz\n",
        "    print(\"dataset downloaded!\")\n",
        "    !tar xzvf food-101.tar.gz\n",
        "    print(\"extraction done!\")"
      ]
    },
    {
      "cell_type": "code",
      "execution_count": null,
      "metadata": {
        "_uuid": "05fd6dae2dde446b3bd4a17f81a202391f9328d3",
        "colab": {
          "base_uri": "https://localhost:8080/"
        },
        "collapsed": true,
        "execution": {
          "iopub.execute_input": "2023-06-04T06:59:09.001528Z",
          "iopub.status.busy": "2023-06-04T06:59:09.001049Z",
          "iopub.status.idle": "2023-06-04T06:59:09.012205Z",
          "shell.execute_reply": "2023-06-04T06:59:09.011378Z",
          "shell.execute_reply.started": "2023-06-04T06:59:09.001336Z"
        },
        "id": "O7kY0v23QJGO",
        "outputId": "3559c7a3-174b-4f27-ac50-b72b12e75634"
      },
      "outputs": [],
      "source": [
        "# get food-101 data downloaded. you might need to enter huggingface secret key (HF_TOKEN) in environment variables.\n",
        "getData()"
      ]
    },
    {
      "cell_type": "markdown",
      "metadata": {
        "_uuid": "4af37d46992f3b2aa7b74efcb5102751b167914e",
        "id": "motIEZu_TVih"
      },
      "source": [
        "### **we visualize images from various class, we use this in poster**"
      ]
    },
    {
      "cell_type": "code",
      "execution_count": null,
      "metadata": {
        "_uuid": "da6910e8bb064b76c17e07f0a2e0e23ebdefbbfa",
        "colab": {
          "base_uri": "https://localhost:8080/",
          "height": 721
        },
        "execution": {
          "iopub.execute_input": "2023-06-04T06:59:11.960144Z",
          "iopub.status.busy": "2023-06-04T06:59:11.959810Z",
          "iopub.status.idle": "2023-06-04T06:59:43.923419Z",
          "shell.execute_reply": "2023-06-04T06:59:43.922298Z",
          "shell.execute_reply.started": "2023-06-04T06:59:11.960090Z"
        },
        "id": "Jfif27Pr5KEn",
        "outputId": "a8a215a6-eda7-42a6-a51f-e760559fbdfe"
      },
      "outputs": [],
      "source": [
        "numRows = 17\n",
        "numCols = 6\n",
        "figure, axes = plt.subplots(numRows, numCols, figsize=(25, 25))\n",
        "figure.suptitle(\"Random images from each class\", y=1.05, fontsize=22) # Adding y=1.05, fontsize=24 helped me fix the suptitle overlapping with axes issue\n",
        "dataDir = \"food-101/images/\"\n",
        "sortedFoods = sorted(os.listdir(dataDir))\n",
        "foodId = 0\n",
        "for i in range(numRows):\n",
        "    for j in range(numCols):\n",
        "        try:\n",
        "            selectedFood = sortedFoods[foodId]\n",
        "            foodId += 1\n",
        "        except:\n",
        "            break\n",
        "        if selectedFood == '.DS_Store':\n",
        "            continue\n",
        "        selectedFoodImages = os.listdir(os.path.join(dataDir, selectedFood)) # returns the list of all files present in each food category\n",
        "        randomSelectedFood = np.random.choice(selectedFoodImages) # picks one food item from the list as choice, takes a list and returns one random item\n",
        "        image = plt.imread(os.path.join(dataDir, selectedFood, randomSelectedFood))\n",
        "        axes[i][j].imshow(image)\n",
        "        axes[i][j].set_title(selectedFood, pad=8)\n",
        "\n",
        "plt.setp(axes, xticks=[], yticks=[])\n",
        "plt.tight_layout()\n"
      ]
    },
    {
      "cell_type": "code",
      "execution_count": 11,
      "metadata": {
        "_uuid": "d6c87e52c1af18e3243f1cb72b5834941828b286",
        "execution": {
          "iopub.execute_input": "2023-06-04T06:59:43.925067Z",
          "iopub.status.busy": "2023-06-04T06:59:43.924842Z",
          "iopub.status.idle": "2023-06-04T06:59:43.933479Z",
          "shell.execute_reply": "2023-06-04T06:59:43.932720Z",
          "shell.execute_reply.started": "2023-06-04T06:59:43.925024Z"
        },
        "id": "xB0XMUX_5KMQ"
      },
      "outputs": [],
      "source": [
        "def prepareData(filePath, source, destination):\n",
        "    classImages = defaultdict(list)\n",
        "    with open(filePath, 'r') as txt:\n",
        "        paths = [line.strip() for line in txt.readlines()]\n",
        "        for path in paths:\n",
        "            food = path.split('/')\n",
        "            classImages[food[0]].append(food[1] + '.jpg')\n",
        "\n",
        "    for food in classImages.keys():\n",
        "        print(\"\\nCopying images into \", food)\n",
        "        if not os.path.exists(os.path.join(destination, food)):\n",
        "            os.makedirs(os.path.join(destination, food))\n",
        "        for image in classImages[food]:\n",
        "            copy(os.path.join(source, food, image), os.path.join(destination, food, image))"
      ]
    },
    {
      "cell_type": "code",
      "execution_count": null,
      "metadata": {
        "_uuid": "786cdb3d60ebcdddb4c2875f9e0b4508c5210fc1",
        "colab": {
          "base_uri": "https://localhost:8080/"
        },
        "collapsed": true,
        "execution": {
          "iopub.execute_input": "2023-06-04T06:59:43.935388Z",
          "iopub.status.busy": "2023-06-04T06:59:43.934799Z",
          "iopub.status.idle": "2023-06-04T07:06:32.839923Z",
          "shell.execute_reply": "2023-06-04T07:06:32.839094Z",
          "shell.execute_reply.started": "2023-06-04T06:59:43.935339Z"
        },
        "id": "LSgcYcqy5KUd",
        "outputId": "e0507a7e-c394-43b4-8e64-d050181e32cb"
      },
      "outputs": [],
      "source": [
        "# be careful with the file paths. i used what worked for me on google colab.\n",
        "prepareData('/content/food-101/meta/train.txt', '/content/food-101/images', 'train')"
      ]
    },
    {
      "cell_type": "code",
      "execution_count": null,
      "metadata": {
        "_uuid": "ba85577e0ef10c768e000ecf32dee36566d52599",
        "colab": {
          "base_uri": "https://localhost:8080/"
        },
        "collapsed": true,
        "execution": {
          "iopub.execute_input": "2023-06-04T07:06:32.841603Z",
          "iopub.status.busy": "2023-06-04T07:06:32.841299Z",
          "iopub.status.idle": "2023-06-04T07:08:48.616920Z",
          "shell.execute_reply": "2023-06-04T07:08:48.616075Z",
          "shell.execute_reply.started": "2023-06-04T07:06:32.841553Z"
        },
        "id": "JI65wZgT5Kb-",
        "outputId": "5a813ea5-f723-4a0c-bf3e-2dcbaa9a7c53"
      },
      "outputs": [],
      "source": [
        "prepareData('/content/food-101/meta/test.txt', '/content/food-101/images', 'test')"
      ]
    },
    {
      "cell_type": "code",
      "execution_count": 31,
      "metadata": {
        "execution": {
          "iopub.execute_input": "2023-06-04T07:08:50.659401Z",
          "iopub.status.busy": "2023-06-04T07:08:50.659115Z",
          "iopub.status.idle": "2023-06-04T07:08:50.667241Z",
          "shell.execute_reply": "2023-06-04T07:08:50.666204Z",
          "shell.execute_reply.started": "2023-06-04T07:08:50.659352Z"
        },
        "id": "mU_YJ9j_e62T"
      },
      "outputs": [],
      "source": [
        "# again go to root directory which has food-101 folder inside it\n",
        "os.chdir('/content')"
      ]
    },
    {
      "cell_type": "markdown",
      "metadata": {
        "_uuid": "b7ee945bd17a45706d665517a51f5adc1b6b9106",
        "id": "O5rLWIHpUGWf"
      },
      "source": [
        "### **we create train_mini and test_mini for resnet50 with only 3 classes. later we will execute same code for 11 classes. and then later we will adapt this for inceptionv3 and store their train and test subsets in train_miniInception and test_miniInception.**\n"
      ]
    },
    {
      "cell_type": "code",
      "execution_count": 19,
      "metadata": {
        "_uuid": "6101991b0ff433a76afdc2cb99c021862c83860e",
        "execution": {
          "iopub.execute_input": "2023-06-04T07:08:50.873157Z",
          "iopub.status.busy": "2023-06-04T07:08:50.872927Z",
          "iopub.status.idle": "2023-06-04T07:08:50.878862Z",
          "shell.execute_reply": "2023-06-04T07:08:50.877833Z",
          "shell.execute_reply.started": "2023-06-04T07:08:50.873111Z"
        },
        "id": "tYyJGTJ6J9CP"
      },
      "outputs": [],
      "source": [
        "def createMiniDataset(foodItems, sourcePath, destinationPath):\n",
        "  if os.path.exists(destinationPath):\n",
        "    rmtree(destinationPath)\n",
        "  os.makedirs(destinationPath)\n",
        "  for item in foodItems:\n",
        "    print(\"Copying images into\", item)\n",
        "    copytree(os.path.join(sourcePath, item), os.path.join(destinationPath, item))\n"
      ]
    },
    {
      "cell_type": "code",
      "execution_count": 29,
      "metadata": {
        "_uuid": "71c58df71a49e4e0e2e0bfe6359602c92c2f2306",
        "execution": {
          "iopub.execute_input": "2023-06-04T07:08:50.880824Z",
          "iopub.status.busy": "2023-06-04T07:08:50.880261Z",
          "iopub.status.idle": "2023-06-04T07:08:50.888049Z",
          "shell.execute_reply": "2023-06-04T07:08:50.887204Z",
          "shell.execute_reply.started": "2023-06-04T07:08:50.880773Z"
        },
        "id": "9YAscZLV5LFK"
      },
      "outputs": [],
      "source": [
        "foodItems = ['apple_pie', 'pizza', 'omelette']\n",
        "sourceTrain = 'train'\n",
        "destinationTrain = 'train_mini/'\n",
        "sourceTest = 'test'\n",
        "destinationTest = 'test_mini/'"
      ]
    },
    {
      "cell_type": "code",
      "execution_count": null,
      "metadata": {
        "_uuid": "2a6d67301fb0a709613c1c7a3f00629c349065e3",
        "colab": {
          "base_uri": "https://localhost:8080/"
        },
        "execution": {
          "iopub.execute_input": "2023-06-04T07:08:50.890091Z",
          "iopub.status.busy": "2023-06-04T07:08:50.889635Z",
          "iopub.status.idle": "2023-06-04T07:08:51.996664Z",
          "shell.execute_reply": "2023-06-04T07:08:51.995774Z",
          "shell.execute_reply.started": "2023-06-04T07:08:50.889882Z"
        },
        "id": "tvlXbJ3NoPzy",
        "outputId": "df2311c2-991e-4d6c-fbdb-daa3bb65a8a8"
      },
      "outputs": [],
      "source": [
        "\n",
        "createMiniDataset(foodItems, sourceTrain, destinationTrain)\n",
        "\n",
        "createMiniDataset(foodItems, sourceTest, destinationTest)"
      ]
    },
    {
      "cell_type": "markdown",
      "metadata": {
        "_uuid": "3a9e9afbfe1fc303c23c06c27444b66988ab8e9d",
        "id": "upx61ukJiA8B"
      },
      "source": [
        "### **first, finetune ResNet50 on Food 101 dataset**"
      ]
    },
    {
      "cell_type": "code",
      "execution_count": null,
      "metadata": {
        "_uuid": "8d08ece78ab731f7ac8a9b4b581e42e29093bcca",
        "colab": {
          "base_uri": "https://localhost:8080/"
        },
        "execution": {
          "iopub.execute_input": "2023-06-04T07:08:54.101890Z",
          "iopub.status.busy": "2023-06-04T07:08:54.101564Z",
          "iopub.status.idle": "2023-06-04T07:28:41.640338Z",
          "shell.execute_reply": "2023-06-04T07:28:41.639430Z",
          "shell.execute_reply.started": "2023-06-04T07:08:54.101840Z"
        },
        "id": "JBs1U7hZkp1U",
        "outputId": "04c397a7-3b20-44a5-c0bd-fe11186876e9"
      },
      "outputs": [],
      "source": [
        "from tensorflow.keras.applications.resnet50 import ResNet50\n",
        "\n",
        "K.clear_session()\n",
        "numClasses = 3\n",
        "imageWidth, imageHeight = 224, 224\n",
        "trainDataDir = 'train_mini'\n",
        "validationDataDir = 'test_mini'\n",
        "numTrainSamples = 2250\n",
        "numValidationSamples = 750\n",
        "batchSize = 16\n",
        "\n",
        "trainDataGen = ImageDataGenerator(\n",
        "    rescale=1. / 255,\n",
        "    shearRange=0.2,\n",
        "    zoomRange=0.2,\n",
        "    horizontalFlip=True)\n",
        "\n",
        "testDataGen = ImageDataGenerator(rescale=1. / 255)\n",
        "\n",
        "trainGenerator = trainDataGen.flow_from_directory(\n",
        "    trainDataDir,\n",
        "    targetSize=(imageHeight, imageWidth),\n",
        "    batchSize=batchSize,\n",
        "    classMode='categorical')\n",
        "\n",
        "validationGenerator = testDataGen.flow_from_directory(\n",
        "    validationDataDir,\n",
        "    targetSize=(imageHeight, imageWidth),\n",
        "    batchSize=batchSize,\n",
        "    classMode='categorical')\n",
        "\n",
        "resNet50Model = ResNet50(weights='imagenet', include_top=False)\n",
        "x = resNet50Model.output\n",
        "x = GlobalAveragePooling2D()(x)\n",
        "x = Dense(128, activation='relu')(x)\n",
        "x = Dropout(0.2)(x)\n",
        "\n",
        "predictions = Dense(3, kernel_regularizer=regularizers.l2(0.005), activation='softmax')(x)\n",
        "\n",
        "model = Model(inputs=resNet50Model.input, outputs=predictions)\n",
        "model.compile(optimizer=SGD(learning_rate=0.0001, momentum=0.9), loss='categorical_crossentropy', metrics=['accuracy'])\n",
        "modelCheckpointer = ModelCheckpoint(\n",
        "    filepath='best_model_3class.keras',\n",
        "    verbose=1,\n",
        "    save_best_only=True\n",
        ")\n",
        "\n",
        "csvLogger = CSVLogger('history_3class.log')\n",
        "\n",
        "trainingHistory = model.fit(trainGenerator,\n",
        "                            steps_per_epoch=numTrainSamples // batchSize,\n",
        "                            validation_data=validationGenerator,\n",
        "                            validation_steps=numValidationSamples // batchSize,\n",
        "                            epochs=30,\n",
        "                            verbose=1,\n",
        "                            callbacks=[csvLogger, modelCheckpointer])\n",
        "\n",
        "model.save('model_trained_3class.keras')"
      ]
    },
    {
      "cell_type": "code",
      "execution_count": 40,
      "metadata": {
        "_uuid": "27084e072edb2c961bfa6be87d80f273d32533c2",
        "execution": {
          "iopub.execute_input": "2023-06-04T07:28:41.649938Z",
          "iopub.status.busy": "2023-06-04T07:28:41.649493Z",
          "iopub.status.idle": "2023-06-04T07:28:41.664386Z",
          "shell.execute_reply": "2023-06-04T07:28:41.663739Z",
          "shell.execute_reply.started": "2023-06-04T07:28:41.649887Z"
        },
        "id": "SjRm_AWZpPZm"
      },
      "outputs": [],
      "source": [
        "def plotAccuracy(history, title):\n",
        "    plt.title(title)\n",
        "    plt.plot(history.history['accuracy'])\n",
        "    plt.plot(history.history['val_accuracy'])\n",
        "    plt.ylabel('accuracy')\n",
        "    plt.xlabel('epoch')\n",
        "    plt.legend(['train_accuracy', 'validation_accuracy'], loc='best')\n",
        "    plt.show()\n",
        "\n",
        "def plotLoss(history, title):\n",
        "    plt.title(title)\n",
        "    plt.plot(history.history['loss'])\n",
        "    plt.plot(history.history['val_loss'])\n",
        "    plt.ylabel('loss')\n",
        "    plt.xlabel('epoch')\n",
        "    plt.legend(['train_loss', 'validation_loss'], loc='best')\n",
        "    plt.show()"
      ]
    },
    {
      "cell_type": "code",
      "execution_count": null,
      "metadata": {
        "_uuid": "a73c830d2fbd841c9541628061313e4fd8506a51",
        "colab": {
          "base_uri": "https://localhost:8080/",
          "height": 927
        },
        "execution": {
          "iopub.execute_input": "2023-06-04T07:28:41.666565Z",
          "iopub.status.busy": "2023-06-04T07:28:41.665927Z",
          "iopub.status.idle": "2023-06-04T07:28:42.181258Z",
          "shell.execute_reply": "2023-06-04T07:28:42.180240Z",
          "shell.execute_reply.started": "2023-06-04T07:28:41.666430Z"
        },
        "id": "F5-dQdIGe62V",
        "outputId": "0fe4eda9-6030-4766-a888-325d0795d5e4"
      },
      "outputs": [],
      "source": [
        "plotAccuracy(trainingHistory,'Finetuned ResNet50 3 class Accuracy Curve')\n",
        "plotLoss(trainingHistory,'Finetuned ResNet50 3 class Loss Curve')"
      ]
    },
    {
      "cell_type": "markdown",
      "metadata": {
        "_uuid": "d36d6ce06a0de7243311e17b866d5e60c4f7641b",
        "id": "rdaEgO6F7SBK"
      },
      "source": [
        "### **Now, we finetune ResNet50 model with 11 random classes of data**"
      ]
    },
    {
      "cell_type": "code",
      "execution_count": null,
      "metadata": {
        "_uuid": "b3088cb98adad92a14b1c8e656991ce9e2854726",
        "colab": {
          "base_uri": "https://localhost:8080/"
        },
        "execution": {
          "iopub.execute_input": "2023-06-04T07:29:00.927709Z",
          "iopub.status.busy": "2023-06-04T07:29:00.927166Z",
          "iopub.status.idle": "2023-06-04T07:29:00.937888Z",
          "shell.execute_reply": "2023-06-04T07:29:00.937098Z",
          "shell.execute_reply.started": "2023-06-04T07:29:00.927658Z"
        },
        "id": "b1DiwFi3SSrV",
        "outputId": "f3f80071-5d06-447d-be7f-04400109bfb4"
      },
      "outputs": [],
      "source": [
        "n = 11\n",
        "food_list = ['apple_pie', 'beef_carpaccio', 'bibimbap', 'cup_cakes', 'foie_gras', 'french_fries', 'garlic_bread', 'pizza', 'spring_rolls', 'spaghetti_carbonara', 'strawberry_shortcake']"
      ]
    },
    {
      "cell_type": "code",
      "execution_count": null,
      "metadata": {
        "_uuid": "adfc9bddef628878eb90259c2bdaf2ce3411b832",
        "colab": {
          "base_uri": "https://localhost:8080/"
        },
        "execution": {
          "iopub.execute_input": "2023-06-04T07:29:00.942364Z",
          "iopub.status.busy": "2023-06-04T07:29:00.939095Z",
          "iopub.status.idle": "2023-06-04T07:29:06.993053Z",
          "shell.execute_reply": "2023-06-04T07:29:06.992104Z",
          "shell.execute_reply.started": "2023-06-04T07:29:00.939296Z"
        },
        "id": "eyfKi0kqZQVo",
        "outputId": "32be8931-fd40-43ab-b2f2-ee5cff5600a9"
      },
      "outputs": [],
      "source": [
        "\n",
        "createMiniDataset(food_list, sourceTrain, destinationTest)\n",
        "createMiniDataset(food_list, sourceTest, destinationTest)"
      ]
    },
    {
      "cell_type": "code",
      "execution_count": null,
      "metadata": {
        "_uuid": "b94f4380c22c8118e9589f6f5dcdba84fe0484b4",
        "colab": {
          "base_uri": "https://localhost:8080/"
        },
        "execution": {
          "iopub.execute_input": "2023-06-04T07:29:09.981445Z",
          "iopub.status.busy": "2023-06-04T07:29:09.977302Z",
          "iopub.status.idle": "2023-06-04T08:43:07.516290Z",
          "shell.execute_reply": "2023-06-04T08:43:07.515418Z",
          "shell.execute_reply.started": "2023-06-04T07:29:09.981385Z"
        },
        "id": "SyoYObOKZQ4j",
        "outputId": "c8ae05c9-1847-471a-a9f0-b305a2a4d706"
      },
      "outputs": [],
      "source": [
        "K.clear_session()\n",
        "\n",
        "numClasses11 = n\n",
        "imageWidth11, imageHeight11 = 224, 224\n",
        "trainDataDir11 = 'train_mini'\n",
        "validationDataDir11 = 'test_mini'\n",
        "numTrainSamples11 = 8250\n",
        "numValidationSamples11 = 2750\n",
        "batchSize11 = 16\n",
        "\n",
        "trainDataGen11 = ImageDataGenerator(\n",
        "    rescale=1. / 255,\n",
        "    shear_range=0.2,\n",
        "    zoom_range=0.2,\n",
        "    horizontal_flip=True)\n",
        "\n",
        "testDataGen11 = ImageDataGenerator(rescale=1. / 255)\n",
        "\n",
        "trainGenerator11 = trainDataGen11.flow_from_directory(\n",
        "    trainDataDir11,\n",
        "    target_size=(imageHeight11, imageWidth11),\n",
        "    batch_size=batchSize11,\n",
        "    class_mode='categorical')\n",
        "\n",
        "validationGenerator11 = testDataGen11.flow_from_directory(\n",
        "    validationDataDir11,\n",
        "    target_size=(imageHeight11, imageWidth11),\n",
        "    batch_size=batchSize11,\n",
        "    class_mode='categorical')\n",
        "\n",
        "resNet50Model11 = ResNet50(weights='imagenet', include_top=False)\n",
        "x11 = resNet50Model11.output\n",
        "x11 = GlobalAveragePooling2D()(x11)\n",
        "x11 = Dense(128, activation='relu')(x11)\n",
        "x11 = Dropout(0.2)(x11)\n",
        "\n",
        "predictions11 = Dense(n, kernel_regularizer=regularizers.l2(0.005), activation='softmax')(x11)\n",
        "\n",
        "model11 = Model(inputs=resNet50Model11.input, outputs=predictions11)\n",
        "model11.compile(optimizer=SGD(learning_rate=0.0001, momentum=0.9), loss='categorical_crossentropy', metrics=['accuracy'])\n",
        "checkpointer11 = ModelCheckpoint(filepath='best_model_11class.keras', verbose=1, save_best_only=True)\n",
        "csvLogger11 = CSVLogger('history_11class.log')\n",
        "\n",
        "history11Class = model11.fit(trainGenerator11,\n",
        "                    steps_per_epoch=numTrainSamples11 // batchSize11,\n",
        "                    validation_data=validationGenerator11,\n",
        "                    validation_steps=numValidationSamples11 // batchSize11,\n",
        "                    epochs=30,\n",
        "                    verbose=1,\n",
        "                    callbacks=[csvLogger11, checkpointer11])\n",
        "\n",
        "model11.save('model_trained_11class.keras')"
      ]
    },
    {
      "cell_type": "code",
      "execution_count": null,
      "metadata": {
        "_uuid": "0bd7c9c273e27e7452a06fe54b1875741a1e033a",
        "colab": {
          "base_uri": "https://localhost:8080/",
          "height": 927
        },
        "execution": {
          "iopub.execute_input": "2023-06-04T08:43:07.529045Z",
          "iopub.status.busy": "2023-06-04T08:43:07.528588Z",
          "iopub.status.idle": "2023-06-04T08:43:08.047126Z",
          "shell.execute_reply": "2023-06-04T08:43:08.046096Z",
          "shell.execute_reply.started": "2023-06-04T08:43:07.528837Z"
        },
        "id": "9j6jD5Ny9Mvh",
        "outputId": "57d0b041-09f6-46e0-a1c1-c430ef58ddb4"
      },
      "outputs": [],
      "source": [
        "plotAccuracy(history11Class,'Finetuned Resnet50 11 class Accuracy Curve')\n",
        "plotLoss(history11Class,'Finetuned Resnet50 11 class Loss Curve')"
      ]
    },
    {
      "cell_type": "code",
      "execution_count": 48,
      "metadata": {
        "id": "RsHTDckH3Ra2"
      },
      "outputs": [],
      "source": [
        "foodItemsList = ['apple_pie', 'pizza', 'omelette']\n",
        "sourceTrainPath = 'train'\n",
        "destinationTrainPath = 'train_miniInception/'\n",
        "sourceTestPath = 'test'\n",
        "destinationTestPath = 'test_miniInception/'"
      ]
    },
    {
      "cell_type": "code",
      "execution_count": null,
      "metadata": {},
      "outputs": [],
      "source": [
        "def createMiniDataset(foodItems, sourcePath, destinationPath):\n",
        "  if os.path.exists(destinationPath):\n",
        "    rmtree(destinationPath)\n",
        "  os.makedirs(destinationPath)\n",
        "  for item in foodItems:\n",
        "    copytree(os.path.join(sourcePath, item), os.path.join(destinationPath, item))\n"
      ]
    },
    {
      "cell_type": "code",
      "execution_count": null,
      "metadata": {},
      "outputs": [],
      "source": [
        "\n",
        "createMiniDataset(foodItemsList, sourceTrainPath, destinationTrainPath)\n",
        "createMiniDataset(foodItemsList, sourceTestPath, destinationTestPath)"
      ]
    },
    {
      "cell_type": "code",
      "execution_count": null,
      "metadata": {
        "colab": {
          "base_uri": "https://localhost:8080/"
        },
        "id": "bSCoPwwXxZ5i",
        "outputId": "3690eadf-23c2-408e-fa89-a3fd6aee0ab1"
      },
      "outputs": [],
      "source": [
        "K.clear_session()\n",
        "\n",
        "numClassesInception = 3\n",
        "imgWidthInception, imgHeightInception = 299, 299\n",
        "trainDataDirInception = 'train_miniInception'\n",
        "validationDataDirInception = 'test_miniInception'\n",
        "numTrainSamplesInception = 2250\n",
        "numValidationSamplesInception = 750\n",
        "batchSizeInception = 16\n",
        "epochsInception = 30\n",
        "\n",
        "trainDataGenInception = ImageDataGenerator(\n",
        "    rescale=1. / 255,\n",
        "    shear_range=0.2,\n",
        "    zoom_range=0.2,\n",
        "    horizontal_flip=True)\n",
        "\n",
        "testDataGenInception = ImageDataGenerator(rescale=1. / 255)\n",
        "\n",
        "trainGeneratorInception = trainDataGenInception.flow_from_directory(\n",
        "    trainDataDirInception,\n",
        "    target_size=(imgHeightInception, imgWidthInception),\n",
        "    batch_size=batchSizeInception,\n",
        "    class_mode='categorical')\n",
        "\n",
        "validationGeneratorInception = testDataGenInception.flow_from_directory(\n",
        "    validationDataDirInception,\n",
        "    target_size=(imgHeightInception, imgWidthInception),\n",
        "    batch_size=batchSizeInception,\n",
        "    class_mode='categorical')\n",
        "\n",
        "baseModelInception = InceptionV3(\n",
        "    weights='imagenet',\n",
        "    include_top=False,\n",
        "    input_shape=(imgHeightInception, imgWidthInception, 3)\n",
        ")\n",
        "\n",
        "xInception = baseModelInception.output\n",
        "xInception = GlobalAveragePooling2D()(xInception)\n",
        "xInception = Dense(128, activation='relu')(xInception)\n",
        "xInception = Dropout(0.2)(xInception)\n",
        "predictionsInception = Dense(\n",
        "    numClassesInception,\n",
        "    activation='softmax',\n",
        "    kernel_regularizer=regularizers.l2(0.005)\n",
        ")(xInception)\n",
        "\n",
        "modelInception = Model(inputs=baseModelInception.input, outputs=predictionsInception)\n",
        "\n",
        "modelInception.compile(optimizer=SGD(learning_rate=0.0001, momentum=0.9), loss='categorical_crossentropy', metrics=['accuracy'])\n",
        "checkpointerInception = ModelCheckpoint(\n",
        "    filepath='best_inception_model_3class.keras',\n",
        "    verbose=1,\n",
        "    save_best_only=True\n",
        ")\n",
        "csvLoggerInception = CSVLogger('inception_history_3class.log')\n",
        "\n",
        "historyInception = modelInception.fit(trainGeneratorInception,\n",
        "                    steps_per_epoch=numTrainSamplesInception // batchSizeInception,\n",
        "                    validation_data=validationGeneratorInception,\n",
        "                    validation_steps=numValidationSamplesInception // batchSizeInception,\n",
        "                    epochs=epochsInception,\n",
        "                    verbose=1,\n",
        "                    callbacks=[csvLoggerInception, checkpointerInception])\n",
        "\n",
        "modelInception.save('inception_model_trained_3class.keras')"
      ]
    },
    {
      "cell_type": "code",
      "execution_count": null,
      "metadata": {
        "colab": {
          "base_uri": "https://localhost:8080/",
          "height": 927
        },
        "id": "7rgt86Ev57Yl",
        "outputId": "c0368bd4-4162-48bd-994c-b875a576bf48"
      },
      "outputs": [],
      "source": [
        "plotAccuracy(historyInception, 'Finetuned InceptionV3 3 class Accuracy Curve')\n",
        "plotLoss(historyInception, 'Finetuned InceptionV3 3 class Loss Curve')"
      ]
    },
    {
      "cell_type": "code",
      "execution_count": null,
      "metadata": {
        "_uuid": "b3088cb98adad92a14b1c8e656991ce9e2854726",
        "colab": {
          "base_uri": "https://localhost:8080/"
        },
        "execution": {
          "iopub.execute_input": "2023-06-04T07:29:00.927709Z",
          "iopub.status.busy": "2023-06-04T07:29:00.927166Z",
          "iopub.status.idle": "2023-06-04T07:29:00.937888Z",
          "shell.execute_reply": "2023-06-04T07:29:00.937098Z",
          "shell.execute_reply.started": "2023-06-04T07:29:00.927658Z"
        },
        "id": "7hWC7Li-6oLk",
        "outputId": "b0a67730-52c7-4c73-d691-886600ddcad9"
      },
      "outputs": [],
      "source": [
        "n = 11\n",
        "food_list = ['apple_pie', 'beef_carpaccio', 'bibimbap', 'cup_cakes', 'foie_gras', 'french_fries', 'garlic_bread', 'pizza', 'spring_rolls', 'spaghetti_carbonara', 'strawberry_shortcake']"
      ]
    },
    {
      "cell_type": "code",
      "execution_count": null,
      "metadata": {
        "_uuid": "adfc9bddef628878eb90259c2bdaf2ce3411b832",
        "colab": {
          "base_uri": "https://localhost:8080/"
        },
        "execution": {
          "iopub.execute_input": "2023-06-04T07:29:00.942364Z",
          "iopub.status.busy": "2023-06-04T07:29:00.939095Z",
          "iopub.status.idle": "2023-06-04T07:29:06.993053Z",
          "shell.execute_reply": "2023-06-04T07:29:06.992104Z",
          "shell.execute_reply.started": "2023-06-04T07:29:00.939296Z"
        },
        "id": "nSIlLMIr6oLl",
        "outputId": "bee31af7-8759-4034-d227-9c957938567b"
      },
      "outputs": [],
      "source": [
        "\n",
        "createMiniDataset(food_list, sourceTrainPath, destinationTrainPath)\n",
        "createMiniDataset(food_list, sourceTestPath, destinationTestPath)"
      ]
    },
    {
      "cell_type": "code",
      "execution_count": null,
      "metadata": {
        "_uuid": "b94f4380c22c8118e9589f6f5dcdba84fe0484b4",
        "colab": {
          "base_uri": "https://localhost:8080/"
        },
        "execution": {
          "iopub.execute_input": "2023-06-04T07:29:09.981445Z",
          "iopub.status.busy": "2023-06-04T07:29:09.977302Z",
          "iopub.status.idle": "2023-06-04T08:43:07.516290Z",
          "shell.execute_reply": "2023-06-04T08:43:07.515418Z",
          "shell.execute_reply.started": "2023-06-04T07:29:09.981385Z"
        },
        "id": "pSDYtoE66oLl",
        "outputId": "d512bb84-2c5c-401c-846d-c9735b9922b6"
      },
      "outputs": [],
      "source": [
        "K.clear_session()\n",
        "numClasses11 = n\n",
        "imgWidth11, imgHeight11 = 299, 299\n",
        "trainDataDir11 = 'train_miniInception'\n",
        "validationDataDir11 = 'test_miniInception'\n",
        "numTrainSamples11 = 8250 \n",
        "numValidationSamples11 = 2750 \n",
        "batchSize11 = 16\n",
        "epochs11 = 30\n",
        "\n",
        "trainDataGen11 = ImageDataGenerator(\n",
        "    rescale=1. / 255,\n",
        "    shear_range=0.2,\n",
        "    zoom_range=0.2,\n",
        "    horizontal_flip=True)\n",
        "\n",
        "testDataGen11 = ImageDataGenerator(rescale=1. / 255)\n",
        "\n",
        "trainGenerator11 = trainDataGen11.flow_from_directory(\n",
        "    trainDataDir11,\n",
        "    target_size=(imgHeight11, imgWidth11),\n",
        "    batch_size=batchSize11,\n",
        "    class_mode='categorical')\n",
        "\n",
        "validationGenerator11 = testDataGen11.flow_from_directory(\n",
        "    validationDataDir11,\n",
        "    target_size=(imgHeight11, imgWidth11),\n",
        "    batch_size=batchSize11,\n",
        "    class_mode='categorical')\n",
        "\n",
        "baseModel11 = InceptionV3(\n",
        "    weights='imagenet',\n",
        "    include_top=False,\n",
        "    input_shape=(imgHeight11, imgWidth11, 3)\n",
        ")\n",
        "\n",
        "x11 = baseModel11.output\n",
        "x11 = GlobalAveragePooling2D()(x11)\n",
        "x11 = Dense(128, activation='relu')(x11)\n",
        "x11 = Dropout(0.2)(x11)\n",
        "predictions11 = Dense(\n",
        "    numClasses11,\n",
        "    activation='softmax',\n",
        "    kernel_regularizer=regularizers.l2(0.005)\n",
        ")(x11)\n",
        "\n",
        "model11 = Model(inputs=baseModel11.input, outputs=predictions11)\n",
        "\n",
        "model11.compile(optimizer=SGD(learning_rate=0.0001, momentum=0.9), loss='categorical_crossentropy', metrics=['accuracy'])\n",
        "checkpointer11 = ModelCheckpoint(\n",
        "    filepath='best_inception_model_11class.keras',\n",
        "    verbose=1,\n",
        "    save_best_only=True\n",
        ")\n",
        "csvLogger11 = CSVLogger('inception_history_11class.log')\n",
        "\n",
        "history11Class = model11.fit(trainGenerator11,\n",
        "                    steps_per_epoch=numTrainSamples11 // batchSize11,\n",
        "                    validation_data=validationGenerator11,\n",
        "                    validation_steps=numValidationSamples11 // batchSize11,\n",
        "                    epochs=epochs11,\n",
        "                    verbose=1,\n",
        "                    callbacks=[csvLogger11, checkpointer11])\n",
        "\n",
        "model11.save('inception_model_trained_11class.keras')"
      ]
    },
    {
      "cell_type": "code",
      "execution_count": null,
      "metadata": {
        "_uuid": "0bd7c9c273e27e7452a06fe54b1875741a1e033a",
        "colab": {
          "base_uri": "https://localhost:8080/",
          "height": 927
        },
        "execution": {
          "iopub.execute_input": "2023-06-04T08:43:07.529045Z",
          "iopub.status.busy": "2023-06-04T08:43:07.528588Z",
          "iopub.status.idle": "2023-06-04T08:43:08.047126Z",
          "shell.execute_reply": "2023-06-04T08:43:08.046096Z",
          "shell.execute_reply.started": "2023-06-04T08:43:07.528837Z"
        },
        "id": "ZRDqG7aX6oLl",
        "outputId": "f8d7c801-d95d-4967-cc78-f5447a247236"
      },
      "outputs": [],
      "source": [
        "plotAccuracy(history11Class,'Finetuned InceptionV3 11 class Accuracy Curve')\n",
        "plotLoss(history11Class,'Finetuned InceptionV3 11 class Loss Curve')"
      ]
    },
    {
      "cell_type": "markdown",
      "metadata": {
        "id": "gTc22gbIVwly"
      },
      "source": [
        "# DONE HERE!\n"
      ]
    },
    {
      "cell_type": "code",
      "execution_count": null,
      "metadata": {
        "colab": {
          "base_uri": "https://localhost:8080/",
          "height": 1000
        },
        "id": "71AVGYCdAAfw",
        "outputId": "40b1e292-0ff3-4b94-ec55-c0df573647d6"
      },
      "outputs": [],
      "source": [
        "from tensorflow.keras.preprocessing.image import ImageDataGenerator\n",
        "\n",
        "def getTestGenerator(testDir, imgSize=(224,224), batchSize=16):\n",
        "    testDataGen = ImageDataGenerator(rescale=1./255)\n",
        "    return testDataGen.flow_from_directory(\n",
        "        testDir,\n",
        "        target_size=imgSize,\n",
        "        batch_size=batchSize,\n",
        "        class_mode='categorical',\n",
        "        shuffle=False\n",
        "    )\n",
        "\n",
        "def evaluateModel(modelPath, testDir, imgSize=(224,224), batchSize=16):\n",
        "    modelEval = load_model(modelPath)\n",
        "    genEval = getTestGenerator(testDir, imgSize, batchSize)\n",
        "    stepsEval = int(np.ceil(genEval.samples / batchSize))\n",
        "    startEval = time.time()\n",
        "    predsEval = modelEval.predict(genEval, steps=stepsEval, verbose=0)\n",
        "    elapsedEval = time.time() - startEval\n",
        "\n",
        "    yTrueEval = genEval.classes\n",
        "    yPredEval = predsEval.argmax(axis=1)\n",
        "    labelsEval = list(genEval.class_indices.keys())\n",
        "\n",
        "    print(f\"\\n>>> Model: {modelPath.split('/')[-1]}\")\n",
        "    print(f\"Inference time: {elapsedEval:.2f}s for {genEval.samples} images\")\n",
        "    print(f\"Overall accuracy: {np.mean(yPredEval == yTrueEval)*100:.2f}%\")\n",
        "    print(\"\\nClassification report:\")\n",
        "    print(classification_report(yTrueEval, yPredEval, target_names=labelsEval, digits=4))\n",
        "\n",
        "    cmEval = confusion_matrix(yTrueEval, yPredEval)\n",
        "    plt.figure(figsize=(6,6))\n",
        "    sns.heatmap(cmEval, annot=True, fmt='d',\n",
        "                xticklabels=labelsEval, yticklabels=labelsEval,\n",
        "                cmap='Blues')\n",
        "    plt.xlabel('Predicted')\n",
        "    plt.ylabel('True')\n",
        "    plt.title('Confusion Matrix')\n",
        "    plt.show()\n",
        "\n",
        "    print(f\"Total parameters: {modelEval.count_params():,}\")\n",
        "\n",
        "evaluateModel('best_model_3class.keras', 'test_mini', imgSize=(224,224), batchSize=16)\n",
        "evaluateModel('best_inception_model_3class.keras', 'test_miniInception', imgSize=(299,299), batchSize=16)"
      ]
    },
    {
      "cell_type": "code",
      "execution_count": null,
      "metadata": {
        "colab": {
          "base_uri": "https://localhost:8080/",
          "height": 1000
        },
        "id": "AsUwWTOFNOVZ",
        "outputId": "bf11a226-715e-457c-ac62-d75878f69c48"
      },
      "outputs": [],
      "source": [
        "import tensorflow as tf\n",
        "from tensorflow.keras.preprocessing.image import ImageDataGenerator\n",
        "\n",
        "def getTestGeneratorUnique(testDirUnique, imgSizeUnique=(224,224), batchSizeUnique=16):\n",
        "    testDataGenUnique = ImageDataGenerator(rescale=1./255)\n",
        "    return testDataGenUnique.flow_from_directory(\n",
        "        testDirUnique,\n",
        "        target_size=imgSizeUnique,\n",
        "        batch_size=batchSizeUnique,\n",
        "        class_mode='categorical',\n",
        "        shuffle=False\n",
        "    )\n",
        "\n",
        "def evaluateModelUnique(modelPathUnique, testDirUnique, imgSizeUnique=(224,224), batchSizeUnique=16):\n",
        "    modelUnique = load_model(modelPathUnique)\n",
        "    genUnique = getTestGeneratorUnique(testDirUnique, imgSizeUnique, batchSizeUnique)\n",
        "    stepsUnique = int(np.ceil(genUnique.samples / batchSizeUnique))\n",
        "    startUnique = time.time()\n",
        "    predsUnique = modelUnique.predict(genUnique, steps=stepsUnique, verbose=0)\n",
        "    elapsedUnique = time.time() - startUnique\n",
        "\n",
        "    yTrueUnique = genUnique.classes\n",
        "    yPredUnique = predsUnique.argmax(axis=1)\n",
        "    labelsUnique = list(genUnique.class_indices.keys())\n",
        "\n",
        "    print(f\"\\n>>> Model: {modelPathUnique.split('/')[-1]}\")\n",
        "    print(f\"Inference time: {elapsedUnique:.2f}s for {genUnique.samples} images\")\n",
        "    print(f\"Overall accuracy: {np.mean(yPredUnique == yTrueUnique)*100:.2f}%\")\n",
        "    print(\"\\nClassification report:\")\n",
        "    print(classification_report(yTrueUnique, yPredUnique, target_names=labelsUnique, digits=4))\n",
        "\n",
        "    cmUnique = confusion_matrix(yTrueUnique, yPredUnique)\n",
        "    plt.figure(figsize=(6,6))\n",
        "    sns.heatmap(cmUnique, annot=True, fmt='d',\n",
        "                xticklabels=labelsUnique, yticklabels=labelsUnique,\n",
        "                cmap='Blues')\n",
        "    plt.xlabel('Predicted')\n",
        "    plt.ylabel('True')\n",
        "    plt.title('Confusion Matrix')\n",
        "    plt.show()\n",
        "\n",
        "    print(f\"Total parameters: {modelUnique.count_params():,}\")\n",
        "\n",
        "evaluateModelUnique('best_model_11class.keras', 'test_mini', imgSizeUnique=(224,224), batchSizeUnique=16)\n",
        "evaluateModelUnique('best_inception_model_11class.keras', 'test_miniInception', imgSizeUnique=(299,299), batchSizeUnique=16)"
      ]
    }
  ],
  "metadata": {
    "accelerator": "GPU",
    "colab": {
      "provenance": []
    },
    "kernelspec": {
      "display_name": "Python 3 (ipykernel)",
      "language": "python",
      "name": "python3"
    },
    "language_info": {
      "codemirror_mode": {
        "name": "ipython",
        "version": 3
      },
      "file_extension": ".py",
      "mimetype": "text/x-python",
      "name": "python",
      "nbconvert_exporter": "python",
      "pygments_lexer": "ipython3",
      "version": "3.11.3"
    }
  },
  "nbformat": 4,
  "nbformat_minor": 0
}
